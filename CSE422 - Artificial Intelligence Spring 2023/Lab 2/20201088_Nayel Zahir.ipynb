{
 "cells": [
  {
   "cell_type": "code",
   "execution_count": 2,
   "metadata": {},
   "outputs": [],
   "source": [
    "import random\n",
    "\n",
    "import math\n",
    "import numpy as np"
   ]
  },
  {
   "cell_type": "code",
   "execution_count": null,
   "metadata": {},
   "outputs": [],
   "source": []
  },
  {
   "cell_type": "code",
   "execution_count": null,
   "metadata": {},
   "outputs": [],
   "source": []
  },
  {
   "cell_type": "code",
   "execution_count": 6,
   "metadata": {},
   "outputs": [
    {
     "name": "stdout",
     "output_type": "stream",
     "text": [
      "Student ID entered: 20201088\n",
      "Updated student ID is: 28281888\n",
      "Minimum points Optimus Prime can achieve from the game is: 1\n",
      "[8, 8]\n",
      "No of shuffles: 8\n",
      "8\n",
      "8\n",
      "Total points to win: 88\n",
      "Maxumum points that can be achieved: 132.0\n",
      "Generated 8 random points between the minimum and maximum point limits: [14, 55, 82, 95, 34, 60, 84, 37]\n"
     ]
    },
    {
     "ename": "RecursionError",
     "evalue": "maximum recursion depth exceeded in comparison",
     "output_type": "error",
     "traceback": [
      "\u001b[0;31m---------------------------------------------------------------------------\u001b[0m",
      "\u001b[0;31mRecursionError\u001b[0m                            Traceback (most recent call last)",
      "Cell \u001b[0;32mIn[6], line 91\u001b[0m\n\u001b[1;32m     88\u001b[0m                 \u001b[39mbreak\u001b[39;00m\n\u001b[1;32m     89\u001b[0m         \u001b[39mreturn\u001b[39;00m minEva\n\u001b[0;32m---> 91\u001b[0m output \u001b[39m=\u001b[39m AlphaBeta([], \u001b[39m0\u001b[39;49m, alpha, beta, \u001b[39mTrue\u001b[39;49;00m)\n\u001b[1;32m     93\u001b[0m \u001b[39mprint\u001b[39m(output)\n",
      "Cell \u001b[0;32mIn[6], line 74\u001b[0m, in \u001b[0;36mAlphaBeta\u001b[0;34m(position, depth, alpha, beta, maximizingPlayer)\u001b[0m\n\u001b[1;32m     72\u001b[0m maxEva \u001b[39m=\u001b[39m \u001b[39m-\u001b[39mmath\u001b[39m.\u001b[39minf\n\u001b[1;32m     73\u001b[0m \u001b[39mfor\u001b[39;00m i \u001b[39min\u001b[39;00m \u001b[39mrange\u001b[39m(\u001b[39m0\u001b[39m, treeBranches):\n\u001b[0;32m---> 74\u001b[0m     eva \u001b[39m=\u001b[39m AlphaBeta(position \u001b[39m+\u001b[39;49m [randlist2[i]], depth \u001b[39m+\u001b[39;49m \u001b[39m1\u001b[39;49m, alpha, beta, \u001b[39mFalse\u001b[39;49;00m)\n\u001b[1;32m     75\u001b[0m     maxEva \u001b[39m=\u001b[39m \u001b[39mmax\u001b[39m(maxEva, eva)\n\u001b[1;32m     76\u001b[0m     alpha \u001b[39m=\u001b[39m \u001b[39mmax\u001b[39m(alpha, maxEva)\n",
      "Cell \u001b[0;32mIn[6], line 84\u001b[0m, in \u001b[0;36mAlphaBeta\u001b[0;34m(position, depth, alpha, beta, maximizingPlayer)\u001b[0m\n\u001b[1;32m     82\u001b[0m minEva \u001b[39m=\u001b[39m math\u001b[39m.\u001b[39minf\n\u001b[1;32m     83\u001b[0m \u001b[39mfor\u001b[39;00m i \u001b[39min\u001b[39;00m \u001b[39mrange\u001b[39m(\u001b[39m0\u001b[39m, treeBranches):\n\u001b[0;32m---> 84\u001b[0m     eva \u001b[39m=\u001b[39m AlphaBeta(position \u001b[39m+\u001b[39;49m [randlist2[i]], depth \u001b[39m+\u001b[39;49m \u001b[39m1\u001b[39;49m, alpha, beta, \u001b[39mTrue\u001b[39;49;00m)\n\u001b[1;32m     85\u001b[0m     minEva \u001b[39m=\u001b[39m \u001b[39mmin\u001b[39m(minEva, eva)\n\u001b[1;32m     86\u001b[0m     beta \u001b[39m=\u001b[39m \u001b[39mmin\u001b[39m(beta, minEva)\n",
      "Cell \u001b[0;32mIn[6], line 74\u001b[0m, in \u001b[0;36mAlphaBeta\u001b[0;34m(position, depth, alpha, beta, maximizingPlayer)\u001b[0m\n\u001b[1;32m     72\u001b[0m maxEva \u001b[39m=\u001b[39m \u001b[39m-\u001b[39mmath\u001b[39m.\u001b[39minf\n\u001b[1;32m     73\u001b[0m \u001b[39mfor\u001b[39;00m i \u001b[39min\u001b[39;00m \u001b[39mrange\u001b[39m(\u001b[39m0\u001b[39m, treeBranches):\n\u001b[0;32m---> 74\u001b[0m     eva \u001b[39m=\u001b[39m AlphaBeta(position \u001b[39m+\u001b[39;49m [randlist2[i]], depth \u001b[39m+\u001b[39;49m \u001b[39m1\u001b[39;49m, alpha, beta, \u001b[39mFalse\u001b[39;49;00m)\n\u001b[1;32m     75\u001b[0m     maxEva \u001b[39m=\u001b[39m \u001b[39mmax\u001b[39m(maxEva, eva)\n\u001b[1;32m     76\u001b[0m     alpha \u001b[39m=\u001b[39m \u001b[39mmax\u001b[39m(alpha, maxEva)\n",
      "Cell \u001b[0;32mIn[6], line 84\u001b[0m, in \u001b[0;36mAlphaBeta\u001b[0;34m(position, depth, alpha, beta, maximizingPlayer)\u001b[0m\n\u001b[1;32m     82\u001b[0m minEva \u001b[39m=\u001b[39m math\u001b[39m.\u001b[39minf\n\u001b[1;32m     83\u001b[0m \u001b[39mfor\u001b[39;00m i \u001b[39min\u001b[39;00m \u001b[39mrange\u001b[39m(\u001b[39m0\u001b[39m, treeBranches):\n\u001b[0;32m---> 84\u001b[0m     eva \u001b[39m=\u001b[39m AlphaBeta(position \u001b[39m+\u001b[39;49m [randlist2[i]], depth \u001b[39m+\u001b[39;49m \u001b[39m1\u001b[39;49m, alpha, beta, \u001b[39mTrue\u001b[39;49;00m)\n\u001b[1;32m     85\u001b[0m     minEva \u001b[39m=\u001b[39m \u001b[39mmin\u001b[39m(minEva, eva)\n\u001b[1;32m     86\u001b[0m     beta \u001b[39m=\u001b[39m \u001b[39mmin\u001b[39m(beta, minEva)\n",
      "    \u001b[0;31m[... skipping similar frames: AlphaBeta at line 74 (1484 times), AlphaBeta at line 84 (1483 times)]\u001b[0m\n",
      "Cell \u001b[0;32mIn[6], line 84\u001b[0m, in \u001b[0;36mAlphaBeta\u001b[0;34m(position, depth, alpha, beta, maximizingPlayer)\u001b[0m\n\u001b[1;32m     82\u001b[0m minEva \u001b[39m=\u001b[39m math\u001b[39m.\u001b[39minf\n\u001b[1;32m     83\u001b[0m \u001b[39mfor\u001b[39;00m i \u001b[39min\u001b[39;00m \u001b[39mrange\u001b[39m(\u001b[39m0\u001b[39m, treeBranches):\n\u001b[0;32m---> 84\u001b[0m     eva \u001b[39m=\u001b[39m AlphaBeta(position \u001b[39m+\u001b[39;49m [randlist2[i]], depth \u001b[39m+\u001b[39;49m \u001b[39m1\u001b[39;49m, alpha, beta, \u001b[39mTrue\u001b[39;49;00m)\n\u001b[1;32m     85\u001b[0m     minEva \u001b[39m=\u001b[39m \u001b[39mmin\u001b[39m(minEva, eva)\n\u001b[1;32m     86\u001b[0m     beta \u001b[39m=\u001b[39m \u001b[39mmin\u001b[39m(beta, minEva)\n",
      "Cell \u001b[0;32mIn[6], line 74\u001b[0m, in \u001b[0;36mAlphaBeta\u001b[0;34m(position, depth, alpha, beta, maximizingPlayer)\u001b[0m\n\u001b[1;32m     72\u001b[0m maxEva \u001b[39m=\u001b[39m \u001b[39m-\u001b[39mmath\u001b[39m.\u001b[39minf\n\u001b[1;32m     73\u001b[0m \u001b[39mfor\u001b[39;00m i \u001b[39min\u001b[39;00m \u001b[39mrange\u001b[39m(\u001b[39m0\u001b[39m, treeBranches):\n\u001b[0;32m---> 74\u001b[0m     eva \u001b[39m=\u001b[39m AlphaBeta(position \u001b[39m+\u001b[39;49m [randlist2[i]], depth \u001b[39m+\u001b[39;49m \u001b[39m1\u001b[39;49m, alpha, beta, \u001b[39mFalse\u001b[39;49;00m)\n\u001b[1;32m     75\u001b[0m     maxEva \u001b[39m=\u001b[39m \u001b[39mmax\u001b[39m(maxEva, eva)\n\u001b[1;32m     76\u001b[0m     alpha \u001b[39m=\u001b[39m \u001b[39mmax\u001b[39m(alpha, maxEva)\n",
      "Cell \u001b[0;32mIn[6], line 83\u001b[0m, in \u001b[0;36mAlphaBeta\u001b[0;34m(position, depth, alpha, beta, maximizingPlayer)\u001b[0m\n\u001b[1;32m     81\u001b[0m \u001b[39melse\u001b[39;00m:  \u001b[39m# for Minimizer player\u001b[39;00m\n\u001b[1;32m     82\u001b[0m     minEva \u001b[39m=\u001b[39m math\u001b[39m.\u001b[39minf\n\u001b[0;32m---> 83\u001b[0m     \u001b[39mfor\u001b[39;00m i \u001b[39min\u001b[39;00m \u001b[39mrange\u001b[39m(\u001b[39m0\u001b[39m, treeBranches):\n\u001b[1;32m     84\u001b[0m         eva \u001b[39m=\u001b[39m AlphaBeta(position \u001b[39m+\u001b[39m [randlist2[i]], depth \u001b[39m+\u001b[39m \u001b[39m1\u001b[39m, alpha, beta, \u001b[39mTrue\u001b[39;00m)\n\u001b[1;32m     85\u001b[0m         minEva \u001b[39m=\u001b[39m \u001b[39mmin\u001b[39m(minEva, eva)\n",
      "\u001b[0;31mRecursionError\u001b[0m: maximum recursion depth exceeded in comparison"
     ]
    }
   ],
   "source": [
    "\n",
    "\n",
    "\n",
    "# Setting up initial values for alpha and beta\n",
    "\n",
    "\n",
    "alpha = -math.inf\n",
    "beta = math.inf\n",
    "\n",
    "\n",
    "pruneCount = 0\n",
    "studentID = input('Enter your student ID:')\n",
    "\n",
    "studentID_2 = ''\n",
    "for i in studentID:\n",
    "    if i == '0':\n",
    "        studentID_2 += '8'\n",
    "    else:\n",
    "        studentID_2 += i\n",
    "\n",
    "min_points = int(studentID_2[4])\n",
    "print('Student ID entered:',studentID)\n",
    "print('Updated student ID is:',studentID_2)\n",
    "print('Minimum points Optimus Prime can achieve from the game is:',min_points) ## prints 5th index of the ID, also the minimum points Optimus Prime can achieve from the game\n",
    "\n",
    "\n",
    "reversedNum = []\n",
    "\n",
    "reversedNum.append(int(studentID_2[-1]))\n",
    "reversedNum.append(int(studentID_2[-2]))\n",
    "\n",
    "print(reversedNum)\n",
    "\n",
    "no_of_shuffles = studentID_2[3]\n",
    "print('No of shuffles:',no_of_shuffles) ## Prints 8 as 4th value from my student ID\n",
    "#print(reversedNum) ## prints reverse of the last two numbers in my student ID\n",
    "\n",
    "\n",
    "\n",
    "\n",
    "\n",
    "var2 = ''\n",
    "\n",
    "for i in reversedNum:\n",
    "    var2 += str(i)\n",
    "    print(i)\n",
    "var2 = int(var2)\n",
    "\n",
    "print('Total points to win:',var2) ### TotalPoints to win\n",
    "\n",
    "maxPoints = 1.5* var2\n",
    "print('Maxumum points that can be achieved:',maxPoints) ### maximum points that can be achieved\n",
    "\n",
    "\n",
    "randlist2 = []\n",
    "\n",
    "for i in range(8): randlist2.append(random.randint(1,100))\n",
    "\n",
    "print('Generated 8 random points between the minimum and maximum point limits:',randlist2)\n",
    "\n",
    "\n",
    "treeDepth = 4\n",
    "\n",
    "treeBranches = 8\n",
    "\n",
    "\n",
    "#### Alpha beta pruneee algorithmmmm \n",
    "\n",
    "def AlphaBeta(position, depth, alpha, beta, maximizingPlayer):\n",
    "    global pruneCount\n",
    "    if depth == treeDepth:\n",
    "        pruneCount += 1\n",
    "    \n",
    "    if maximizingPlayer:  # for Maximizing Player\n",
    "        maxEva = -math.inf\n",
    "        for i in range(0, treeBranches):\n",
    "            eva = AlphaBeta(position + [randlist2[i]], depth + 1, alpha, beta, False)\n",
    "            maxEva = max(maxEva, eva)\n",
    "            alpha = max(alpha, maxEva)\n",
    "            if beta <= alpha:\n",
    "                break\n",
    "        return maxEva\n",
    "    \n",
    "    else:  # for Minimizer player\n",
    "        minEva = math.inf\n",
    "        for i in range(0, treeBranches):\n",
    "            eva = AlphaBeta(position + [randlist2[i]], depth + 1, alpha, beta, True)\n",
    "            minEva = min(minEva, eva)\n",
    "            beta = min(beta, minEva)\n",
    "            if beta <= alpha:\n",
    "                break\n",
    "        return minEva\n",
    "    \n",
    "output = AlphaBeta([], 0, alpha, beta, True)\n",
    "\n",
    "print(output)"
   ]
  },
  {
   "cell_type": "code",
   "execution_count": null,
   "metadata": {},
   "outputs": [],
   "source": []
  }
 ],
 "metadata": {
  "kernelspec": {
   "display_name": "Python 3",
   "language": "python",
   "name": "python3"
  },
  "language_info": {
   "codemirror_mode": {
    "name": "ipython",
    "version": 3
   },
   "file_extension": ".py",
   "mimetype": "text/x-python",
   "name": "python",
   "nbconvert_exporter": "python",
   "pygments_lexer": "ipython3",
   "version": "3.11.2 (v3.11.2:878ead1ac1, Feb  7 2023, 10:02:41) [Clang 13.0.0 (clang-1300.0.29.30)]"
  },
  "orig_nbformat": 4,
  "vscode": {
   "interpreter": {
    "hash": "aee8b7b246df8f9039afb4144a1f6fd8d2ca17a180786b69acc140d282b71a49"
   }
  }
 },
 "nbformat": 4,
 "nbformat_minor": 2
}
